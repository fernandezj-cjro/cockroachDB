{
 "cells": [
  {
   "cell_type": "code",
   "execution_count": 12,
   "metadata": {},
   "outputs": [],
   "source": [
    "import os\n",
    "import psycopg2\n"
   ]
  },
  {
   "cell_type": "code",
   "execution_count": null,
   "metadata": {},
   "outputs": [],
   "source": [
    "import os\n",
    "\n",
    "\n",
    "conn = psycopg2.connect(os.environ[\"DATABASE_URL\"])\n",
    "\n",
    "with conn.cursor() as cur:\n",
    "    cur.execute(\"SELECT now()\")\n",
    "    res = cur.fetchall()\n",
    "    conn.commit()\n",
    "    print(res)"
   ]
  }
 ],
 "metadata": {
  "kernelspec": {
   "display_name": "base",
   "language": "python",
   "name": "python3"
  },
  "language_info": {
   "codemirror_mode": {
    "name": "ipython",
    "version": 3
   },
   "file_extension": ".py",
   "mimetype": "text/x-python",
   "name": "python",
   "nbconvert_exporter": "python",
   "pygments_lexer": "ipython3",
   "version": "3.9.13"
  },
  "orig_nbformat": 4,
  "vscode": {
   "interpreter": {
    "hash": "d3fb4346ebf256e3d063b614142b05c5cf63b9c302d29a44d4b92949551d7a67"
   }
  }
 },
 "nbformat": 4,
 "nbformat_minor": 2
}
